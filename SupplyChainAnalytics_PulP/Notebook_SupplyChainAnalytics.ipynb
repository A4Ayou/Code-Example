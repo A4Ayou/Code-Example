{
 "cells": [
  {
   "cell_type": "markdown",
   "metadata": {},
   "source": [
    "# <font color=#04B45F>SUPPLY CHAIN ANALYTICS WITH PULP</font>\n",
    "##### LAST UPDATE: 10/05/2020\n",
    "\n",
    "## Table of Contents\n",
    "- Presentation of the Case\n",
    "- Preparation of the Environment\n",
    "- Initial Setting of the Problem"
   ]
  },
  {
   "cell_type": "markdown",
   "metadata": {},
   "source": [
    "# <font color=#04B45F>Presentation of the Case</font>\n",
    "\n",
    "TBD"
   ]
  },
  {
   "cell_type": "markdown",
   "metadata": {},
   "source": [
    "# <font color=#04B45F>Preparation of the Environment</font>"
   ]
  },
  {
   "cell_type": "markdown",
   "metadata": {},
   "source": [
    "## Import the Packages\n",
    "\n",
    "PulP should preliminarily be installed on the machine using the command pip install pulp"
   ]
  },
  {
   "cell_type": "code",
   "execution_count": 2,
   "metadata": {},
   "outputs": [],
   "source": [
    "### Data Manipulation\n",
    "import numpy as np\n",
    "import pandas as pd\n",
    "\n",
    "### Optimization\n",
    "import pulp\n",
    "\n",
    "### Miscellaneous\n",
    "import warnings"
   ]
  },
  {
   "cell_type": "markdown",
   "metadata": {},
   "source": [
    "## Set Parameters of the Notebook"
   ]
  },
  {
   "cell_type": "code",
   "execution_count": 3,
   "metadata": {},
   "outputs": [],
   "source": [
    "# Display all the columns\n",
    "pd.set_option('display.max_columns', None)\n",
    "\n",
    "# Hide warning message\n",
    "warnings.simplefilter('ignore')\n",
    "\n",
    "# Set random seed\n",
    "np.random.seed(42)"
   ]
  },
  {
   "cell_type": "markdown",
   "metadata": {},
   "source": [
    "# <font color=#04B45F>Initial Setting of the Problem</font>"
   ]
  },
  {
   "cell_type": "markdown",
   "metadata": {},
   "source": [
    "## Demand"
   ]
  },
  {
   "cell_type": "code",
   "execution_count": 6,
   "metadata": {},
   "outputs": [
    {
     "data": {
      "text/html": [
       "<div>\n",
       "<style scoped>\n",
       "    .dataframe tbody tr th:only-of-type {\n",
       "        vertical-align: middle;\n",
       "    }\n",
       "\n",
       "    .dataframe tbody tr th {\n",
       "        vertical-align: top;\n",
       "    }\n",
       "\n",
       "    .dataframe thead th {\n",
       "        text-align: right;\n",
       "    }\n",
       "</style>\n",
       "<table border=\"1\" class=\"dataframe\">\n",
       "  <thead>\n",
       "    <tr style=\"text-align: right;\">\n",
       "      <th></th>\n",
       "      <th>Demand</th>\n",
       "    </tr>\n",
       "  </thead>\n",
       "  <tbody>\n",
       "    <tr>\n",
       "      <th>France</th>\n",
       "      <td>3000</td>\n",
       "    </tr>\n",
       "    <tr>\n",
       "      <th>United Kingdom</th>\n",
       "      <td>2100</td>\n",
       "    </tr>\n",
       "    <tr>\n",
       "      <th>Germany</th>\n",
       "      <td>4500</td>\n",
       "    </tr>\n",
       "    <tr>\n",
       "      <th>Belgium</th>\n",
       "      <td>900</td>\n",
       "    </tr>\n",
       "    <tr>\n",
       "      <th>Spain</th>\n",
       "      <td>1200</td>\n",
       "    </tr>\n",
       "    <tr>\n",
       "      <th>Italy</th>\n",
       "      <td>1900</td>\n",
       "    </tr>\n",
       "  </tbody>\n",
       "</table>\n",
       "</div>"
      ],
      "text/plain": [
       "                Demand\n",
       "France            3000\n",
       "United Kingdom    2100\n",
       "Germany           4500\n",
       "Belgium            900\n",
       "Spain             1200\n",
       "Italy             1900"
      ]
     },
     "execution_count": 6,
     "metadata": {},
     "output_type": "execute_result"
    }
   ],
   "source": [
    "###\n",
    "###### Prepare Inputs for Data Frame\n",
    "###\n",
    "### List the Country with Demand\n",
    "list_country = ['France', 'United Kingdom', 'Germany', 'Belgium', 'Spain', 'Italy']\n",
    "\n",
    "### List the Demand Quantity Associated with Each Country\n",
    "list_demand = [3000, 2100, 4500, 900, 1200, 1900]\n",
    "\n",
    "\n",
    "###\n",
    "###### Create Data Frame\n",
    "###\n",
    "### Intiaite the Data Frame by Setting the Index\n",
    "df_demand = pd.DataFrame(index=list_country)\n",
    "\n",
    "### Add the Demand for Each Country\n",
    "df_demand['Demand'] = list_demand\n",
    "\n",
    "### Show the Data Frame\n",
    "df_demand"
   ]
  },
  {
   "cell_type": "markdown",
   "metadata": {},
   "source": [
    "## Variable Costs"
   ]
  },
  {
   "cell_type": "code",
   "execution_count": 11,
   "metadata": {},
   "outputs": [
    {
     "data": {
      "text/html": [
       "<div>\n",
       "<style scoped>\n",
       "    .dataframe tbody tr th:only-of-type {\n",
       "        vertical-align: middle;\n",
       "    }\n",
       "\n",
       "    .dataframe tbody tr th {\n",
       "        vertical-align: top;\n",
       "    }\n",
       "\n",
       "    .dataframe thead th {\n",
       "        text-align: right;\n",
       "    }\n",
       "</style>\n",
       "<table border=\"1\" class=\"dataframe\">\n",
       "  <thead>\n",
       "    <tr style=\"text-align: right;\">\n",
       "      <th></th>\n",
       "      <th>France</th>\n",
       "      <th>United Kingdom</th>\n",
       "      <th>Germany</th>\n",
       "      <th>Belgium</th>\n",
       "      <th>Spain</th>\n",
       "      <th>Italy</th>\n",
       "    </tr>\n",
       "  </thead>\n",
       "  <tbody>\n",
       "    <tr>\n",
       "      <th>France</th>\n",
       "      <td>9</td>\n",
       "      <td>14</td>\n",
       "      <td>14</td>\n",
       "      <td>13</td>\n",
       "      <td>13</td>\n",
       "      <td>14</td>\n",
       "    </tr>\n",
       "    <tr>\n",
       "      <th>United Kingdom</th>\n",
       "      <td>25</td>\n",
       "      <td>8</td>\n",
       "      <td>22</td>\n",
       "      <td>21</td>\n",
       "      <td>22</td>\n",
       "      <td>26</td>\n",
       "    </tr>\n",
       "    <tr>\n",
       "      <th>Germany</th>\n",
       "      <td>15</td>\n",
       "      <td>15</td>\n",
       "      <td>6</td>\n",
       "      <td>14</td>\n",
       "      <td>16</td>\n",
       "      <td>15</td>\n",
       "    </tr>\n",
       "    <tr>\n",
       "      <th>Belgium</th>\n",
       "      <td>13</td>\n",
       "      <td>17</td>\n",
       "      <td>15</td>\n",
       "      <td>5</td>\n",
       "      <td>17</td>\n",
       "      <td>16</td>\n",
       "    </tr>\n",
       "    <tr>\n",
       "      <th>Spain</th>\n",
       "      <td>18</td>\n",
       "      <td>20</td>\n",
       "      <td>19</td>\n",
       "      <td>18</td>\n",
       "      <td>5</td>\n",
       "      <td>19</td>\n",
       "    </tr>\n",
       "    <tr>\n",
       "      <th>Italy</th>\n",
       "      <td>21</td>\n",
       "      <td>20</td>\n",
       "      <td>16</td>\n",
       "      <td>17</td>\n",
       "      <td>13</td>\n",
       "      <td>9</td>\n",
       "    </tr>\n",
       "  </tbody>\n",
       "</table>\n",
       "</div>"
      ],
      "text/plain": [
       "                France  United Kingdom  Germany  Belgium  Spain  Italy\n",
       "France               9              14       14       13     13     14\n",
       "United Kingdom      25               8       22       21     22     26\n",
       "Germany             15              15        6       14     16     15\n",
       "Belgium             13              17       15        5     17     16\n",
       "Spain               18              20       19       18      5     19\n",
       "Italy               21              20       16       17     13      9"
      ]
     },
     "execution_count": 11,
     "metadata": {},
     "output_type": "execute_result"
    }
   ],
   "source": [
    "###\n",
    "###### Initiate the Data Frame\n",
    "###\n",
    "### List the Country with Demand\n",
    "list_country = ['France', 'United Kingdom', 'Germany', 'Belgium', 'Spain', 'Italy']\n",
    "\n",
    "### Create the Data Frame\n",
    "df_cost_var = pd.DataFrame(index=list_country, columns=list_country)\n",
    "\n",
    "\n",
    "###\n",
    "###### Fill the Data Frame with Values\n",
    "###\n",
    "df_cost_var['France'] = [9, 25, 15, 13, 18, 21]\n",
    "df_cost_var['United Kingdom'] = [14, 8, 15, 17, 20, 20]\n",
    "df_cost_var['Germany'] = [14, 22, 6, 15, 19, 16]\n",
    "df_cost_var['Belgium'] = [13, 21, 14, 5, 18, 17]\n",
    "df_cost_var['Spain'] = [13, 22, 16, 17, 5, 13]\n",
    "df_cost_var['Italy'] = [14, 26, 15, 16, 19, 9]\n",
    "\n",
    "### Show the Data Frame\n",
    "df_cost_var"
   ]
  },
  {
   "cell_type": "markdown",
   "metadata": {},
   "source": [
    "## Fixed Costs"
   ]
  },
  {
   "cell_type": "code",
   "execution_count": 14,
   "metadata": {},
   "outputs": [
    {
     "data": {
      "text/html": [
       "<div>\n",
       "<style scoped>\n",
       "    .dataframe tbody tr th:only-of-type {\n",
       "        vertical-align: middle;\n",
       "    }\n",
       "\n",
       "    .dataframe tbody tr th {\n",
       "        vertical-align: top;\n",
       "    }\n",
       "\n",
       "    .dataframe thead th {\n",
       "        text-align: right;\n",
       "    }\n",
       "</style>\n",
       "<table border=\"1\" class=\"dataframe\">\n",
       "  <thead>\n",
       "    <tr style=\"text-align: right;\">\n",
       "      <th></th>\n",
       "      <th>Low_Capacity</th>\n",
       "      <th>Medium_Capacity</th>\n",
       "      <th>High_Capacity</th>\n",
       "    </tr>\n",
       "  </thead>\n",
       "  <tbody>\n",
       "    <tr>\n",
       "      <th>France</th>\n",
       "      <td>660</td>\n",
       "      <td>1200</td>\n",
       "      <td>1790</td>\n",
       "    </tr>\n",
       "    <tr>\n",
       "      <th>United Kingdom</th>\n",
       "      <td>700</td>\n",
       "      <td>1350</td>\n",
       "      <td>1860</td>\n",
       "    </tr>\n",
       "    <tr>\n",
       "      <th>Germany</th>\n",
       "      <td>640</td>\n",
       "      <td>1190</td>\n",
       "      <td>1750</td>\n",
       "    </tr>\n",
       "    <tr>\n",
       "      <th>Belgium</th>\n",
       "      <td>600</td>\n",
       "      <td>1100</td>\n",
       "      <td>1600</td>\n",
       "    </tr>\n",
       "    <tr>\n",
       "      <th>Spain</th>\n",
       "      <td>300</td>\n",
       "      <td>620</td>\n",
       "      <td>940</td>\n",
       "    </tr>\n",
       "    <tr>\n",
       "      <th>Italy</th>\n",
       "      <td>420</td>\n",
       "      <td>700</td>\n",
       "      <td>1230</td>\n",
       "    </tr>\n",
       "  </tbody>\n",
       "</table>\n",
       "</div>"
      ],
      "text/plain": [
       "                Low_Capacity  Medium_Capacity  High_Capacity\n",
       "France                   660             1200           1790\n",
       "United Kingdom           700             1350           1860\n",
       "Germany                  640             1190           1750\n",
       "Belgium                  600             1100           1600\n",
       "Spain                    300              620            940\n",
       "Italy                    420              700           1230"
      ]
     },
     "execution_count": 14,
     "metadata": {},
     "output_type": "execute_result"
    }
   ],
   "source": [
    "### List the Country with Demand\n",
    "list_country = ['France', 'United Kingdom', 'Germany', 'Belgium', 'Spain', 'Italy']\n",
    "\n",
    "### Intiaite the Data Frame by Setting the Index\n",
    "df_cost_fix = pd.DataFrame(index=list_country)\n",
    "\n",
    "### Create One Column for Each Fixed Cost Depending on Capacity\n",
    "# Fixed costs for plants at low capacity\n",
    "df_cost_fix['Low_Capacity'] = [660, 700, 640, 600, 300, 420]\n",
    "# Fixed costs for plants at medium capacity\n",
    "df_cost_fix['Medium_Capacity'] = [1200, 1350, 1190, 1100, 620, 700]\n",
    "# Fixed costs for plants at high capacity\n",
    "df_cost_fix['High_Capacity'] = [1790, 1860, 1750, 1600, 940, 1230]\n",
    "\n",
    "\n",
    "### Show the Data Frame\n",
    "df_cost_fix"
   ]
  },
  {
   "cell_type": "markdown",
   "metadata": {},
   "source": [
    "## Plant's Capacity"
   ]
  },
  {
   "cell_type": "code",
   "execution_count": 15,
   "metadata": {},
   "outputs": [
    {
     "data": {
      "text/html": [
       "<div>\n",
       "<style scoped>\n",
       "    .dataframe tbody tr th:only-of-type {\n",
       "        vertical-align: middle;\n",
       "    }\n",
       "\n",
       "    .dataframe tbody tr th {\n",
       "        vertical-align: top;\n",
       "    }\n",
       "\n",
       "    .dataframe thead th {\n",
       "        text-align: right;\n",
       "    }\n",
       "</style>\n",
       "<table border=\"1\" class=\"dataframe\">\n",
       "  <thead>\n",
       "    <tr style=\"text-align: right;\">\n",
       "      <th></th>\n",
       "      <th>Low_Capacity</th>\n",
       "      <th>Medium_Capacity</th>\n",
       "      <th>High_Capacity</th>\n",
       "    </tr>\n",
       "  </thead>\n",
       "  <tbody>\n",
       "    <tr>\n",
       "      <th>France</th>\n",
       "      <td>1000</td>\n",
       "      <td>2000</td>\n",
       "      <td>3000</td>\n",
       "    </tr>\n",
       "    <tr>\n",
       "      <th>United Kingdom</th>\n",
       "      <td>1000</td>\n",
       "      <td>2000</td>\n",
       "      <td>3000</td>\n",
       "    </tr>\n",
       "    <tr>\n",
       "      <th>Germany</th>\n",
       "      <td>1000</td>\n",
       "      <td>2000</td>\n",
       "      <td>3000</td>\n",
       "    </tr>\n",
       "    <tr>\n",
       "      <th>Belgium</th>\n",
       "      <td>1000</td>\n",
       "      <td>2000</td>\n",
       "      <td>3000</td>\n",
       "    </tr>\n",
       "    <tr>\n",
       "      <th>Spain</th>\n",
       "      <td>1000</td>\n",
       "      <td>2000</td>\n",
       "      <td>3000</td>\n",
       "    </tr>\n",
       "    <tr>\n",
       "      <th>Italy</th>\n",
       "      <td>1000</td>\n",
       "      <td>2000</td>\n",
       "      <td>3000</td>\n",
       "    </tr>\n",
       "  </tbody>\n",
       "</table>\n",
       "</div>"
      ],
      "text/plain": [
       "                Low_Capacity  Medium_Capacity  High_Capacity\n",
       "France                  1000             2000           3000\n",
       "United Kingdom          1000             2000           3000\n",
       "Germany                 1000             2000           3000\n",
       "Belgium                 1000             2000           3000\n",
       "Spain                   1000             2000           3000\n",
       "Italy                   1000             2000           3000"
      ]
     },
     "execution_count": 15,
     "metadata": {},
     "output_type": "execute_result"
    }
   ],
   "source": [
    "### List the Country with Demand\n",
    "list_country = ['France', 'United Kingdom', 'Germany', 'Belgium', 'Spain', 'Italy']\n",
    "\n",
    "### Intiaite the Data Frame by Setting the Index\n",
    "df_capacity = pd.DataFrame(index=list_country)\n",
    "\n",
    "### Fill Out the Data Frame with Capacity for Each Status\n",
    "df_capacity['Low_Capacity'] = 1000\n",
    "df_capacity['Medium_Capacity'] = 2000\n",
    "df_capacity['High_Capacity'] = 3000\n",
    "\n",
    "### Show the Data Frame\n",
    "df_capacity"
   ]
  },
  {
   "cell_type": "code",
   "execution_count": null,
   "metadata": {},
   "outputs": [],
   "source": []
  },
  {
   "cell_type": "code",
   "execution_count": null,
   "metadata": {},
   "outputs": [],
   "source": []
  },
  {
   "cell_type": "code",
   "execution_count": null,
   "metadata": {},
   "outputs": [],
   "source": []
  },
  {
   "cell_type": "code",
   "execution_count": null,
   "metadata": {},
   "outputs": [],
   "source": []
  }
 ],
 "metadata": {
  "kernelspec": {
   "display_name": "Python 3",
   "language": "python",
   "name": "python3"
  },
  "language_info": {
   "codemirror_mode": {
    "name": "ipython",
    "version": 3
   },
   "file_extension": ".py",
   "mimetype": "text/x-python",
   "name": "python",
   "nbconvert_exporter": "python",
   "pygments_lexer": "ipython3",
   "version": "3.7.7"
  }
 },
 "nbformat": 4,
 "nbformat_minor": 4
}
